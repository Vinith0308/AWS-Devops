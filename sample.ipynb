{
 "cells": [
  {
   "cell_type": "code",
   "execution_count": 1,
   "id": "7c801e01",
   "metadata": {},
   "outputs": [
    {
     "name": "stdout",
     "output_type": "stream",
     "text": [
      "Substrings: ['Hello', 'ello,', 'llo, ', 'lo, W', 'o, Wo', ', Wor', ' Worl', 'World', 'orld!']\n"
     ]
    }
   ],
   "source": [
    "def get_substrings(input_string, length):\n",
    "    \"\"\"\n",
    "    Returns all substrings of the given length from the input string using a sliding window approach.\n",
    "    If the string length is not a multiple of the given length, the last chunk may be shorter.\n",
    "    \"\"\"\n",
    "    if length <= 0:\n",
    "        return []\n",
    "    if length > len(input_string):\n",
    "        return [input_string]  # Return the entire string if length exceeds string length\n",
    "\n",
    "    substrings = [input_string[i:i+length] for i in range(len(input_string) - length + 1)]\n",
    "    return substrings\n",
    "\n",
    "# Example usage\n",
    "string = \"Hello, World!\"\n",
    "substring_length = 5\n",
    "result = get_substrings(string, substring_length)\n",
    "print(f\"Substrings: {result}\")"
   ]
  },
  {
   "cell_type": "markdown",
   "id": "31cba19e",
   "metadata": {},
   "source": [
    "Heading"
   ]
  },
  {
   "cell_type": "code",
   "execution_count": null,
   "id": "be3a49c7",
   "metadata": {},
   "outputs": [],
   "source": []
  }
 ],
 "metadata": {
  "kernelspec": {
   "display_name": "Python 3",
   "language": "python",
   "name": "python3"
  },
  "language_info": {
   "codemirror_mode": {
    "name": "ipython",
    "version": 3
   },
   "file_extension": ".py",
   "mimetype": "text/x-python",
   "name": "python",
   "nbconvert_exporter": "python",
   "pygments_lexer": "ipython3",
   "version": "3.13.3"
  }
 },
 "nbformat": 4,
 "nbformat_minor": 5
}
